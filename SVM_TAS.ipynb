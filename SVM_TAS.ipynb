{
  "nbformat": 4,
  "nbformat_minor": 0,
  "metadata": {
    "colab": {
      "name": "SVM-TAS.ipynb",
      "provenance": [],
      "collapsed_sections": [],
      "include_colab_link": true
    },
    "kernelspec": {
      "name": "python3",
      "display_name": "Python 3"
    },
    "language_info": {
      "name": "python"
    },
    "accelerator": "GPU"
  },
  "cells": [
    {
      "cell_type": "markdown",
      "metadata": {
        "id": "view-in-github",
        "colab_type": "text"
      },
      "source": [
        "<a href=\"https://colab.research.google.com/github/fathinzts/implementation-SVM-Method-with-Google-Collabs/blob/main/SVM_TAS.ipynb\" target=\"_parent\"><img src=\"https://colab.research.google.com/assets/colab-badge.svg\" alt=\"Open In Colab\"/></a>"
      ]
    },
    {
      "cell_type": "code",
      "execution_count": null,
      "metadata": {
        "colab": {
          "base_uri": "https://localhost:8080/"
        },
        "id": "R8OZggwBf2qZ",
        "outputId": "85159ae7-2905-4735-dd73-2d612749a7b0"
      },
      "outputs": [
        {
          "output_type": "stream",
          "name": "stdout",
          "text": [
            "Mounted at /content/drive\n"
          ]
        }
      ],
      "source": [
        "from google.colab import drive\n",
        "drive.mount('/content/drive')"
      ]
    },
    {
      "cell_type": "code",
      "source": [
        "!unrar x \"/content/drive/MyDrive/Klasifikasi_Glaukoma.rar\" \"/content/drive/MyDrive/Colab Notebooks\""
      ],
      "metadata": {
        "colab": {
          "base_uri": "https://localhost:8080/"
        },
        "id": "5wD7EIACi5hd",
        "outputId": "6c908e68-cf60-486d-c2d8-a333b97bfac7"
      },
      "execution_count": null,
      "outputs": [
        {
          "output_type": "stream",
          "name": "stdout",
          "text": [
            "\n",
            "UNRAR 5.50 freeware      Copyright (c) 1993-2017 Alexander Roshal\n",
            "\n",
            "\n",
            "Extracting from /content/drive/MyDrive/Klasifikasi_Glaukoma.rar\n",
            "\n",
            "\n",
            "Would you like to replace the existing file /content/drive/MyDrive/Colab Notebooks/otsu with adaptive threshold graybiasa r2.csv\n",
            "209477 bytes, modified on 2021-12-11 05:40\n",
            "with a new one\n",
            "209477 bytes, modified on 2021-12-11 05:40\n",
            "\n",
            "[Y]es, [N]o, [A]ll, n[E]ver, [R]ename, [Q]uit y\n",
            "\n",
            "Extracting  /content/drive/MyDrive/Colab Notebooks/otsu with adaptive threshold graybiasa r2.csv     \b\b\b\b 73%\b\b\b\b\b  OK \n",
            "\n",
            "Would you like to replace the existing file /content/drive/MyDrive/Colab Notebooks/otsu with adaptive threshold graybiasa r3.csv\n",
            " 71538 bytes, modified on 2021-12-11 01:49\n",
            "with a new one\n",
            " 71538 bytes, modified on 2021-12-11 01:49\n",
            "\n",
            "[Y]es, [N]o, [A]ll, n[E]ver, [R]ename, [Q]uit y\n",
            "\n",
            "Extracting  /content/drive/MyDrive/Colab Notebooks/otsu with adaptive threshold graybiasa r3.csv     \b\b\b\b 99%\b\b\b\b\b  OK \n",
            "All OK\n"
          ]
        }
      ]
    },
    {
      "cell_type": "code",
      "source": [
        "import pandas as pd\n",
        "import numpy as np\n",
        "#Import svm model\n",
        "from sklearn import svm\n",
        "#Import scikit-learn metrics module for accuracy calculation\n",
        "from sklearn.metrics import classification_report, confusion_matrix"
      ],
      "metadata": {
        "id": "o7Ox2to0jSI0"
      },
      "execution_count": null,
      "outputs": []
    },
    {
      "cell_type": "code",
      "source": [
        "data1 = pd.read_csv('/content/drive/MyDrive/Colab Notebooks/otsu with adaptive threshold graybiasa r2.csv')\n",
        "data2 = pd.read_csv('/content/drive/MyDrive/Colab Notebooks/otsu with adaptive threshold graybiasa r3.csv')"
      ],
      "metadata": {
        "id": "LKWnC8WOkznI"
      },
      "execution_count": null,
      "outputs": []
    },
    {
      "cell_type": "code",
      "source": [
        "data1.head()"
      ],
      "metadata": {
        "colab": {
          "base_uri": "https://localhost:8080/",
          "height": 226
        },
        "id": "KTtJhtIElFWC",
        "outputId": "4e69018b-2be8-4cea-8733-45f8104ca147"
      },
      "execution_count": null,
      "outputs": [
        {
          "output_type": "execute_result",
          "data": {
            "text/html": [
              "<div>\n",
              "<style scoped>\n",
              "    .dataframe tbody tr th:only-of-type {\n",
              "        vertical-align: middle;\n",
              "    }\n",
              "\n",
              "    .dataframe tbody tr th {\n",
              "        vertical-align: top;\n",
              "    }\n",
              "\n",
              "    .dataframe thead th {\n",
              "        text-align: right;\n",
              "    }\n",
              "</style>\n",
              "<table border=\"1\" class=\"dataframe\">\n",
              "  <thead>\n",
              "    <tr style=\"text-align: right;\">\n",
              "      <th></th>\n",
              "      <th>filename</th>\n",
              "      <th>contrast_00</th>\n",
              "      <th>contrast_45</th>\n",
              "      <th>contrast_90</th>\n",
              "      <th>contrast_135</th>\n",
              "      <th>IDM_00</th>\n",
              "      <th>IDM_45</th>\n",
              "      <th>IDM_90</th>\n",
              "      <th>IDM_135</th>\n",
              "      <th>entropy_00</th>\n",
              "      <th>entropy_45</th>\n",
              "      <th>entropy_90</th>\n",
              "      <th>entropy_135</th>\n",
              "      <th>corellation_00</th>\n",
              "      <th>corellation_45</th>\n",
              "      <th>corellation_90</th>\n",
              "      <th>corellation_135</th>\n",
              "      <th>energy_00</th>\n",
              "      <th>energy_45</th>\n",
              "      <th>energy_90</th>\n",
              "      <th>energy_135</th>\n",
              "      <th>intensitas_histo</th>\n",
              "      <th>standar_dev_histo</th>\n",
              "      <th>skewness_histo</th>\n",
              "      <th>energi_histo</th>\n",
              "      <th>entropi_histo</th>\n",
              "      <th>kehalusan_histo</th>\n",
              "      <th>class</th>\n",
              "    </tr>\n",
              "  </thead>\n",
              "  <tbody>\n",
              "    <tr>\n",
              "      <th>0</th>\n",
              "      <td>Im001.jpg</td>\n",
              "      <td>149.606823</td>\n",
              "      <td>215.059943</td>\n",
              "      <td>130.053088</td>\n",
              "      <td>210.594378</td>\n",
              "      <td>0.910599</td>\n",
              "      <td>0.906010</td>\n",
              "      <td>0.917568</td>\n",
              "      <td>0.906470</td>\n",
              "      <td>0.490334</td>\n",
              "      <td>0.499379</td>\n",
              "      <td>0.480610</td>\n",
              "      <td>0.499148</td>\n",
              "      <td>0.001206</td>\n",
              "      <td>0.001144</td>\n",
              "      <td>0.001224</td>\n",
              "      <td>0.001148</td>\n",
              "      <td>0.797277</td>\n",
              "      <td>0.793510</td>\n",
              "      <td>0.799010</td>\n",
              "      <td>0.793490</td>\n",
              "      <td>6.966244</td>\n",
              "      <td>0.023723</td>\n",
              "      <td>2.518626</td>\n",
              "      <td>0.815952</td>\n",
              "      <td>0.712210</td>\n",
              "      <td>0.023174</td>\n",
              "      <td>0</td>\n",
              "    </tr>\n",
              "    <tr>\n",
              "      <th>1</th>\n",
              "      <td>Im002.jpg</td>\n",
              "      <td>135.504058</td>\n",
              "      <td>165.931589</td>\n",
              "      <td>90.193712</td>\n",
              "      <td>175.344593</td>\n",
              "      <td>0.893174</td>\n",
              "      <td>0.890000</td>\n",
              "      <td>0.902205</td>\n",
              "      <td>0.888434</td>\n",
              "      <td>0.558089</td>\n",
              "      <td>0.566239</td>\n",
              "      <td>0.542897</td>\n",
              "      <td>0.568926</td>\n",
              "      <td>0.001628</td>\n",
              "      <td>0.001571</td>\n",
              "      <td>0.001707</td>\n",
              "      <td>0.001555</td>\n",
              "      <td>0.753864</td>\n",
              "      <td>0.750181</td>\n",
              "      <td>0.759584</td>\n",
              "      <td>0.748751</td>\n",
              "      <td>5.752022</td>\n",
              "      <td>0.021154</td>\n",
              "      <td>2.004854</td>\n",
              "      <td>0.786390</td>\n",
              "      <td>0.784095</td>\n",
              "      <td>0.020716</td>\n",
              "      <td>0</td>\n",
              "    </tr>\n",
              "    <tr>\n",
              "      <th>2</th>\n",
              "      <td>Im003.jpg</td>\n",
              "      <td>138.991817</td>\n",
              "      <td>188.015883</td>\n",
              "      <td>113.798372</td>\n",
              "      <td>182.482791</td>\n",
              "      <td>0.909288</td>\n",
              "      <td>0.904983</td>\n",
              "      <td>0.910755</td>\n",
              "      <td>0.906713</td>\n",
              "      <td>0.476047</td>\n",
              "      <td>0.485016</td>\n",
              "      <td>0.472819</td>\n",
              "      <td>0.483358</td>\n",
              "      <td>0.001544</td>\n",
              "      <td>0.001465</td>\n",
              "      <td>0.001583</td>\n",
              "      <td>0.001473</td>\n",
              "      <td>0.799497</td>\n",
              "      <td>0.795694</td>\n",
              "      <td>0.799678</td>\n",
              "      <td>0.796671</td>\n",
              "      <td>5.629389</td>\n",
              "      <td>0.018922</td>\n",
              "      <td>1.931602</td>\n",
              "      <td>0.822165</td>\n",
              "      <td>0.674531</td>\n",
              "      <td>0.018570</td>\n",
              "      <td>0</td>\n",
              "    </tr>\n",
              "    <tr>\n",
              "      <th>3</th>\n",
              "      <td>Im004.jpg</td>\n",
              "      <td>146.851973</td>\n",
              "      <td>197.595799</td>\n",
              "      <td>129.860936</td>\n",
              "      <td>213.471124</td>\n",
              "      <td>0.886009</td>\n",
              "      <td>0.881727</td>\n",
              "      <td>0.888703</td>\n",
              "      <td>0.881446</td>\n",
              "      <td>0.584162</td>\n",
              "      <td>0.594169</td>\n",
              "      <td>0.579662</td>\n",
              "      <td>0.594844</td>\n",
              "      <td>0.001348</td>\n",
              "      <td>0.001286</td>\n",
              "      <td>0.001367</td>\n",
              "      <td>0.001268</td>\n",
              "      <td>0.752421</td>\n",
              "      <td>0.748636</td>\n",
              "      <td>0.754161</td>\n",
              "      <td>0.748906</td>\n",
              "      <td>7.004311</td>\n",
              "      <td>0.026659</td>\n",
              "      <td>2.488801</td>\n",
              "      <td>0.781890</td>\n",
              "      <td>0.816202</td>\n",
              "      <td>0.025967</td>\n",
              "      <td>0</td>\n",
              "    </tr>\n",
              "    <tr>\n",
              "      <th>4</th>\n",
              "      <td>Im005.jpg</td>\n",
              "      <td>140.774381</td>\n",
              "      <td>184.286932</td>\n",
              "      <td>115.238261</td>\n",
              "      <td>204.727151</td>\n",
              "      <td>0.895630</td>\n",
              "      <td>0.894533</td>\n",
              "      <td>0.901346</td>\n",
              "      <td>0.893338</td>\n",
              "      <td>0.526459</td>\n",
              "      <td>0.531249</td>\n",
              "      <td>0.516687</td>\n",
              "      <td>0.534911</td>\n",
              "      <td>0.001583</td>\n",
              "      <td>0.001508</td>\n",
              "      <td>0.001625</td>\n",
              "      <td>0.001474</td>\n",
              "      <td>0.774217</td>\n",
              "      <td>0.773390</td>\n",
              "      <td>0.778514</td>\n",
              "      <td>0.771917</td>\n",
              "      <td>5.830322</td>\n",
              "      <td>0.023149</td>\n",
              "      <td>2.214155</td>\n",
              "      <td>0.804924</td>\n",
              "      <td>0.731381</td>\n",
              "      <td>0.022625</td>\n",
              "      <td>0</td>\n",
              "    </tr>\n",
              "  </tbody>\n",
              "</table>\n",
              "</div>"
            ],
            "text/plain": [
              "    filename  contrast_00  contrast_45  ...  entropi_histo  kehalusan_histo  class\n",
              "0  Im001.jpg   149.606823   215.059943  ...       0.712210         0.023174      0\n",
              "1  Im002.jpg   135.504058   165.931589  ...       0.784095         0.020716      0\n",
              "2  Im003.jpg   138.991817   188.015883  ...       0.674531         0.018570      0\n",
              "3  Im004.jpg   146.851973   197.595799  ...       0.816202         0.025967      0\n",
              "4  Im005.jpg   140.774381   184.286932  ...       0.731381         0.022625      0\n",
              "\n",
              "[5 rows x 28 columns]"
            ]
          },
          "metadata": {},
          "execution_count": 8
        }
      ]
    },
    {
      "cell_type": "code",
      "source": [
        "data2.head()"
      ],
      "metadata": {
        "colab": {
          "base_uri": "https://localhost:8080/",
          "height": 296
        },
        "id": "QszEIHEmll5m",
        "outputId": "514631d3-6350-449d-e87a-ff2f0fff2993"
      },
      "execution_count": null,
      "outputs": [
        {
          "output_type": "execute_result",
          "data": {
            "text/html": [
              "<div>\n",
              "<style scoped>\n",
              "    .dataframe tbody tr th:only-of-type {\n",
              "        vertical-align: middle;\n",
              "    }\n",
              "\n",
              "    .dataframe tbody tr th {\n",
              "        vertical-align: top;\n",
              "    }\n",
              "\n",
              "    .dataframe thead th {\n",
              "        text-align: right;\n",
              "    }\n",
              "</style>\n",
              "<table border=\"1\" class=\"dataframe\">\n",
              "  <thead>\n",
              "    <tr style=\"text-align: right;\">\n",
              "      <th></th>\n",
              "      <th>filename</th>\n",
              "      <th>contrast_00</th>\n",
              "      <th>contrast_45</th>\n",
              "      <th>contrast_90</th>\n",
              "      <th>contrast_135</th>\n",
              "      <th>IDM_00</th>\n",
              "      <th>IDM_45</th>\n",
              "      <th>IDM_90</th>\n",
              "      <th>IDM_135</th>\n",
              "      <th>entropy_00</th>\n",
              "      <th>entropy_45</th>\n",
              "      <th>entropy_90</th>\n",
              "      <th>entropy_135</th>\n",
              "      <th>corellation_00</th>\n",
              "      <th>corellation_45</th>\n",
              "      <th>corellation_90</th>\n",
              "      <th>corellation_135</th>\n",
              "      <th>energy_00</th>\n",
              "      <th>energy_45</th>\n",
              "      <th>energy_90</th>\n",
              "      <th>energy_135</th>\n",
              "      <th>intensitas_histo</th>\n",
              "      <th>standar_dev_histo</th>\n",
              "      <th>skewness_histo</th>\n",
              "      <th>energi_histo</th>\n",
              "      <th>entropi_histo</th>\n",
              "      <th>kehalusan_histo</th>\n",
              "      <th>class</th>\n",
              "    </tr>\n",
              "  </thead>\n",
              "  <tbody>\n",
              "    <tr>\n",
              "      <th>0</th>\n",
              "      <td>N-1-L.jpg</td>\n",
              "      <td>106.062163</td>\n",
              "      <td>161.083679</td>\n",
              "      <td>107.682965</td>\n",
              "      <td>167.996242</td>\n",
              "      <td>0.872748</td>\n",
              "      <td>0.862207</td>\n",
              "      <td>0.876915</td>\n",
              "      <td>0.862200</td>\n",
              "      <td>0.686605</td>\n",
              "      <td>0.706892</td>\n",
              "      <td>0.679855</td>\n",
              "      <td>0.706946</td>\n",
              "      <td>0.001755</td>\n",
              "      <td>0.001645</td>\n",
              "      <td>0.001752</td>\n",
              "      <td>0.001632</td>\n",
              "      <td>0.698785</td>\n",
              "      <td>0.689133</td>\n",
              "      <td>0.701683</td>\n",
              "      <td>0.689114</td>\n",
              "      <td>6.460522</td>\n",
              "      <td>0.018918</td>\n",
              "      <td>1.533860</td>\n",
              "      <td>0.734570</td>\n",
              "      <td>0.980190</td>\n",
              "      <td>0.018567</td>\n",
              "      <td>0</td>\n",
              "    </tr>\n",
              "    <tr>\n",
              "      <th>1</th>\n",
              "      <td>N-10-R.jpg</td>\n",
              "      <td>73.325418</td>\n",
              "      <td>107.080816</td>\n",
              "      <td>63.088517</td>\n",
              "      <td>100.893592</td>\n",
              "      <td>0.879046</td>\n",
              "      <td>0.869267</td>\n",
              "      <td>0.882049</td>\n",
              "      <td>0.868927</td>\n",
              "      <td>0.621962</td>\n",
              "      <td>0.642741</td>\n",
              "      <td>0.616473</td>\n",
              "      <td>0.642977</td>\n",
              "      <td>0.003823</td>\n",
              "      <td>0.003459</td>\n",
              "      <td>0.003931</td>\n",
              "      <td>0.003524</td>\n",
              "      <td>0.722857</td>\n",
              "      <td>0.712382</td>\n",
              "      <td>0.725487</td>\n",
              "      <td>0.712305</td>\n",
              "      <td>3.801444</td>\n",
              "      <td>0.012627</td>\n",
              "      <td>0.810945</td>\n",
              "      <td>0.759453</td>\n",
              "      <td>0.868891</td>\n",
              "      <td>0.012469</td>\n",
              "      <td>0</td>\n",
              "    </tr>\n",
              "    <tr>\n",
              "      <th>2</th>\n",
              "      <td>N-11-L.jpg</td>\n",
              "      <td>39.621873</td>\n",
              "      <td>63.089339</td>\n",
              "      <td>42.885552</td>\n",
              "      <td>63.364146</td>\n",
              "      <td>0.885849</td>\n",
              "      <td>0.875888</td>\n",
              "      <td>0.889949</td>\n",
              "      <td>0.877314</td>\n",
              "      <td>0.593840</td>\n",
              "      <td>0.613396</td>\n",
              "      <td>0.588063</td>\n",
              "      <td>0.611107</td>\n",
              "      <td>0.005531</td>\n",
              "      <td>0.005050</td>\n",
              "      <td>0.005466</td>\n",
              "      <td>0.005045</td>\n",
              "      <td>0.737995</td>\n",
              "      <td>0.728206</td>\n",
              "      <td>0.740997</td>\n",
              "      <td>0.728873</td>\n",
              "      <td>3.228211</td>\n",
              "      <td>0.010085</td>\n",
              "      <td>0.563970</td>\n",
              "      <td>0.769848</td>\n",
              "      <td>0.838551</td>\n",
              "      <td>0.009985</td>\n",
              "      <td>0</td>\n",
              "    </tr>\n",
              "    <tr>\n",
              "      <th>3</th>\n",
              "      <td>N-13-L.jpg</td>\n",
              "      <td>48.203523</td>\n",
              "      <td>73.484748</td>\n",
              "      <td>51.709788</td>\n",
              "      <td>78.786814</td>\n",
              "      <td>0.897230</td>\n",
              "      <td>0.890499</td>\n",
              "      <td>0.901113</td>\n",
              "      <td>0.889514</td>\n",
              "      <td>0.551288</td>\n",
              "      <td>0.566609</td>\n",
              "      <td>0.546021</td>\n",
              "      <td>0.569366</td>\n",
              "      <td>0.004515</td>\n",
              "      <td>0.004169</td>\n",
              "      <td>0.004468</td>\n",
              "      <td>0.004099</td>\n",
              "      <td>0.760380</td>\n",
              "      <td>0.751873</td>\n",
              "      <td>0.760927</td>\n",
              "      <td>0.751117</td>\n",
              "      <td>3.547533</td>\n",
              "      <td>0.011094</td>\n",
              "      <td>0.680476</td>\n",
              "      <td>0.785026</td>\n",
              "      <td>0.792173</td>\n",
              "      <td>0.010972</td>\n",
              "      <td>0</td>\n",
              "    </tr>\n",
              "    <tr>\n",
              "      <th>4</th>\n",
              "      <td>N-14-R.jpg</td>\n",
              "      <td>113.829900</td>\n",
              "      <td>175.655865</td>\n",
              "      <td>125.984838</td>\n",
              "      <td>169.716334</td>\n",
              "      <td>0.877936</td>\n",
              "      <td>0.871827</td>\n",
              "      <td>0.877378</td>\n",
              "      <td>0.872334</td>\n",
              "      <td>0.635158</td>\n",
              "      <td>0.649873</td>\n",
              "      <td>0.635236</td>\n",
              "      <td>0.648718</td>\n",
              "      <td>0.001743</td>\n",
              "      <td>0.001620</td>\n",
              "      <td>0.001720</td>\n",
              "      <td>0.001632</td>\n",
              "      <td>0.727597</td>\n",
              "      <td>0.721440</td>\n",
              "      <td>0.726555</td>\n",
              "      <td>0.722255</td>\n",
              "      <td>6.088511</td>\n",
              "      <td>0.019344</td>\n",
              "      <td>1.668776</td>\n",
              "      <td>0.761058</td>\n",
              "      <td>0.894857</td>\n",
              "      <td>0.018977</td>\n",
              "      <td>0</td>\n",
              "    </tr>\n",
              "  </tbody>\n",
              "</table>\n",
              "</div>"
            ],
            "text/plain": [
              "     filename  contrast_00  contrast_45  ...  entropi_histo  kehalusan_histo  class\n",
              "0   N-1-L.jpg   106.062163   161.083679  ...       0.980190         0.018567      0\n",
              "1  N-10-R.jpg    73.325418   107.080816  ...       0.868891         0.012469      0\n",
              "2  N-11-L.jpg    39.621873    63.089339  ...       0.838551         0.009985      0\n",
              "3  N-13-L.jpg    48.203523    73.484748  ...       0.792173         0.010972      0\n",
              "4  N-14-R.jpg   113.829900   175.655865  ...       0.894857         0.018977      0\n",
              "\n",
              "[5 rows x 28 columns]"
            ]
          },
          "metadata": {},
          "execution_count": 9
        }
      ]
    },
    {
      "cell_type": "code",
      "source": [
        "print(\"data1 R2: \",(len(data1)))\n",
        "print(\"data2 R3: \",(len(data2)))"
      ],
      "metadata": {
        "colab": {
          "base_uri": "https://localhost:8080/"
        },
        "id": "1nmVKQZZloRm",
        "outputId": "5df1f335-af3f-433f-cba9-ae1ed80510b5"
      },
      "execution_count": null,
      "outputs": [
        {
          "output_type": "stream",
          "name": "stdout",
          "text": [
            "data1 R2:  405\n",
            "data2 R3:  138\n"
          ]
        }
      ]
    },
    {
      "cell_type": "code",
      "source": [
        "from sklearn.model_selection import train_test_split"
      ],
      "metadata": {
        "id": "KVRg_t_VnZ_M"
      },
      "execution_count": null,
      "outputs": []
    },
    {
      "cell_type": "code",
      "source": [
        "#data 1\n",
        "train1, test1 = train_test_split(data1, test_size=0.3, random_state=5)\n",
        "print(\"jumlah data test:\", len(test1))\n",
        "print(\"jumlah data train:\", len(train1))"
      ],
      "metadata": {
        "colab": {
          "base_uri": "https://localhost:8080/"
        },
        "id": "K5QIaA8ir8A9",
        "outputId": "3b1c731c-174f-47b9-d8c5-71e8a97b4925"
      },
      "execution_count": null,
      "outputs": [
        {
          "output_type": "stream",
          "name": "stdout",
          "text": [
            "jumlah data test: 122\n",
            "jumlah data train: 283\n"
          ]
        }
      ]
    },
    {
      "cell_type": "code",
      "source": [
        "#ALL GLCM Data1\n",
        "data_feature_testing = test1[['contrast_00','contrast_45','contrast_90','contrast_135','IDM_00','IDM_45','IDM_90','IDM_135','entropy_00','entropy_45','entropy_90','entropy_135','corellation_00','corellation_45','corellation_90','corellation_135','energy_00','energy_45','energy_90','energy_135']]\n",
        "data_feature_training = train1[['contrast_00','contrast_45','contrast_90','contrast_135','IDM_00','IDM_45','IDM_90','IDM_135','entropy_00','entropy_45','entropy_90','entropy_135','corellation_00','corellation_45','corellation_90','corellation_135','energy_00','energy_45','energy_90','energy_135']]\n",
        "data_class_training = train1['class']\n",
        "data_class_testing = test1['class']"
      ],
      "metadata": {
        "id": "hQXmpcQ1tKrI"
      },
      "execution_count": null,
      "outputs": []
    },
    {
      "cell_type": "code",
      "source": [
        "#Create a svm Classifier\n",
        "clf = svm.SVC(kernel='linear')\n",
        "\n",
        "#Train the model using the training sets\n",
        "clf.fit(data_feature_training, data_class_training)\n",
        "\n",
        "#Predict the response for test dataset\n",
        "y_pred = clf.predict(data_feature_testing)\n",
        "\n",
        "# print(confusion_matrix(y_test,y_pred))\n",
        "print(classification_report(data_class_testing,y_pred))\n",
        "print(confusion_matrix(data_class_testing,y_pred))"
      ],
      "metadata": {
        "colab": {
          "base_uri": "https://localhost:8080/"
        },
        "id": "rveMG2Vgsn9H",
        "outputId": "5afbc0bf-7d25-42a7-9dbd-36d72c0b2c77"
      },
      "execution_count": null,
      "outputs": [
        {
          "output_type": "stream",
          "name": "stdout",
          "text": [
            "              precision    recall  f1-score   support\n",
            "\n",
            "           0       0.63      0.90      0.74        68\n",
            "           1       0.72      0.33      0.46        54\n",
            "\n",
            "    accuracy                           0.65       122\n",
            "   macro avg       0.67      0.62      0.60       122\n",
            "weighted avg       0.67      0.65      0.61       122\n",
            "\n",
            "[[61  7]\n",
            " [36 18]]\n"
          ]
        }
      ]
    },
    {
      "cell_type": "code",
      "source": [
        "#ALL Historgram Data1\n",
        "data_feature_testing = test1[['intensitas_histo','standar_dev_histo','skewness_histo','energi_histo','entropi_histo','kehalusan_histo']]\n",
        "data_feature_training = train1[['intensitas_histo','standar_dev_histo','skewness_histo','energi_histo','entropi_histo','kehalusan_histo']]\n",
        "data_class_training = train1['class']\n",
        "data_class_testing = test1['class']"
      ],
      "metadata": {
        "id": "16I8GDSDyzby"
      },
      "execution_count": null,
      "outputs": []
    },
    {
      "cell_type": "code",
      "source": [
        "#Create a svm Classifier\n",
        "clf = svm.SVC(kernel='linear')\n",
        "\n",
        "#Train the model using the training sets\n",
        "clf.fit(data_feature_training, data_class_training)\n",
        "\n",
        "#Predict the response for test dataset\n",
        "y_pred = clf.predict(data_feature_testing)\n",
        "\n",
        "# print(confusion_matrix(y_test,y_pred))\n",
        "print(classification_report(data_class_testing,y_pred))\n",
        "print(confusion_matrix(data_class_testing,y_pred))"
      ],
      "metadata": {
        "colab": {
          "base_uri": "https://localhost:8080/"
        },
        "id": "4tgRkVqhzhAh",
        "outputId": "a51edfb7-dd7f-4e38-c92e-ff29f1e50cac"
      },
      "execution_count": null,
      "outputs": [
        {
          "output_type": "stream",
          "name": "stdout",
          "text": [
            "              precision    recall  f1-score   support\n",
            "\n",
            "           0       0.67      0.90      0.77        68\n",
            "           1       0.77      0.44      0.56        54\n",
            "\n",
            "    accuracy                           0.70       122\n",
            "   macro avg       0.72      0.67      0.67       122\n",
            "weighted avg       0.72      0.70      0.68       122\n",
            "\n",
            "[[61  7]\n",
            " [30 24]]\n"
          ]
        }
      ]
    },
    {
      "cell_type": "code",
      "source": [
        "#data 2\n",
        "train2, test2 = train_test_split(data2, test_size=0.3, random_state=5)\n",
        "print(\"jumlah data test:\", len(test2))\n",
        "print(\"jumlah data train:\", len(train2))"
      ],
      "metadata": {
        "colab": {
          "base_uri": "https://localhost:8080/"
        },
        "id": "UpRBa4ofzrUV",
        "outputId": "de668e65-b1e8-4697-bbfd-b667e3f34efb"
      },
      "execution_count": null,
      "outputs": [
        {
          "output_type": "stream",
          "name": "stdout",
          "text": [
            "jumlah data test: 42\n",
            "jumlah data train: 96\n"
          ]
        }
      ]
    },
    {
      "cell_type": "code",
      "source": [
        "data_feature_testing = test2[['contrast_00','contrast_45','contrast_90','contrast_135','IDM_00','IDM_45','IDM_90','IDM_135','entropy_00','entropy_45','entropy_90','entropy_135','corellation_00','corellation_45','corellation_90','corellation_135','energy_00','energy_45','energy_90','energy_135']]\n",
        "data_feature_training = train2[['contrast_00','contrast_45','contrast_90','contrast_135','IDM_00','IDM_45','IDM_90','IDM_135','entropy_00','entropy_45','entropy_90','entropy_135','corellation_00','corellation_45','corellation_90','corellation_135','energy_00','energy_45','energy_90','energy_135']]\n",
        "data_class_training = train2['class']\n",
        "data_class_testing = test2['class']"
      ],
      "metadata": {
        "id": "yS8YydphuZyu"
      },
      "execution_count": null,
      "outputs": []
    },
    {
      "cell_type": "code",
      "source": [
        "#Create a svm Classifier\n",
        "clf = svm.SVC(kernel='linear')\n",
        "\n",
        "#Train the model using the training sets\n",
        "clf.fit(data_feature_training, data_class_training)\n",
        "\n",
        "#Predict the response for test dataset\n",
        "y_pred = clf.predict(data_feature_testing)\n",
        "\n",
        "# print(confusion_matrix(y_test,y_pred))\n",
        "print(classification_report(data_class_testing,y_pred))\n",
        "print(confusion_matrix(data_class_testing,y_pred))"
      ],
      "metadata": {
        "colab": {
          "base_uri": "https://localhost:8080/"
        },
        "id": "u_EWPwxxy0q4",
        "outputId": "13ba9ea9-bf4e-4f1a-d935-e860a83d936f"
      },
      "execution_count": null,
      "outputs": [
        {
          "output_type": "stream",
          "name": "stdout",
          "text": [
            "              precision    recall  f1-score   support\n",
            "\n",
            "           0       0.69      0.89      0.77        27\n",
            "           1       0.57      0.27      0.36        15\n",
            "\n",
            "    accuracy                           0.67        42\n",
            "   macro avg       0.63      0.58      0.57        42\n",
            "weighted avg       0.64      0.67      0.63        42\n",
            "\n",
            "[[24  3]\n",
            " [11  4]]\n"
          ]
        }
      ]
    },
    {
      "cell_type": "code",
      "source": [
        "#ALL Historgram Data2\n",
        "data_feature_testing = test2[['intensitas_histo','standar_dev_histo','skewness_histo','energi_histo','entropi_histo','kehalusan_histo']]\n",
        "data_feature_training = train2[['intensitas_histo','standar_dev_histo','skewness_histo','energi_histo','entropi_histo','kehalusan_histo']]\n",
        "data_class_training = train2['class']\n",
        "data_class_testing = test2['class']"
      ],
      "metadata": {
        "id": "d22GbW5x0VF1"
      },
      "execution_count": null,
      "outputs": []
    },
    {
      "cell_type": "code",
      "source": [
        "#Create a svm Classifier\n",
        "clf = svm.SVC(kernel='linear')\n",
        "\n",
        "#Train the model using the training sets\n",
        "clf.fit(data_feature_training, data_class_training)\n",
        "\n",
        "#Predict the response for test dataset\n",
        "y_pred = clf.predict(data_feature_testing)\n",
        "\n",
        "# print(confusion_matrix(y_test,y_pred))\n",
        "print(classification_report(data_class_testing,y_pred))\n",
        "print(confusion_matrix(data_class_testing,y_pred))"
      ],
      "metadata": {
        "colab": {
          "base_uri": "https://localhost:8080/"
        },
        "id": "aBngNyly0lU8",
        "outputId": "86a2d74a-69d2-4f57-c62c-cb8aadb1d62e"
      },
      "execution_count": null,
      "outputs": [
        {
          "output_type": "stream",
          "name": "stdout",
          "text": [
            "              precision    recall  f1-score   support\n",
            "\n",
            "           0       0.64      1.00      0.78        27\n",
            "           1       0.00      0.00      0.00        15\n",
            "\n",
            "    accuracy                           0.64        42\n",
            "   macro avg       0.32      0.50      0.39        42\n",
            "weighted avg       0.41      0.64      0.50        42\n",
            "\n",
            "[[27  0]\n",
            " [15  0]]\n"
          ]
        },
        {
          "output_type": "stream",
          "name": "stderr",
          "text": [
            "/usr/local/lib/python3.7/dist-packages/sklearn/metrics/_classification.py:1308: UndefinedMetricWarning: Precision and F-score are ill-defined and being set to 0.0 in labels with no predicted samples. Use `zero_division` parameter to control this behavior.\n",
            "  _warn_prf(average, modifier, msg_start, len(result))\n",
            "/usr/local/lib/python3.7/dist-packages/sklearn/metrics/_classification.py:1308: UndefinedMetricWarning: Precision and F-score are ill-defined and being set to 0.0 in labels with no predicted samples. Use `zero_division` parameter to control this behavior.\n",
            "  _warn_prf(average, modifier, msg_start, len(result))\n",
            "/usr/local/lib/python3.7/dist-packages/sklearn/metrics/_classification.py:1308: UndefinedMetricWarning: Precision and F-score are ill-defined and being set to 0.0 in labels with no predicted samples. Use `zero_division` parameter to control this behavior.\n",
            "  _warn_prf(average, modifier, msg_start, len(result))\n"
          ]
        }
      ]
    },
    {
      "cell_type": "code",
      "source": [
        ""
      ],
      "metadata": {
        "id": "qrmbTYHj0n6X"
      },
      "execution_count": null,
      "outputs": []
    }
  ]
}